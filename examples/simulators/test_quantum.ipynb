{
 "cells": [
  {
   "cell_type": "code",
   "execution_count": 7,
   "id": "e960577e",
   "metadata": {},
   "outputs": [
    {
     "name": "stdout",
     "output_type": "stream",
     "text": [
      "The autoreload extension is already loaded. To reload it, use:\n",
      "  %reload_ext autoreload\n"
     ]
    }
   ],
   "source": [
    "%load_ext autoreload\n",
    "%autoreload 2\n",
    "import time\n",
    "from quantum_spins import QuantumSpinSystem\n",
    "import sciexplorer.physics_run_quantumspins as prq\n",
    "import jax.numpy as jnp\n",
    "import numpy as np\n",
    "import matplotlib.pyplot as plt"
   ]
  },
  {
   "cell_type": "code",
   "execution_count": 8,
   "id": "5814ff5c",
   "metadata": {},
   "outputs": [],
   "source": [
    "sim_q = QuantumSpinSystem(**prq.models['DYNAMICS_ARBITRARY_THREE_SPINS_TWO_SPINS_ACCESS'])"
   ]
  },
  {
   "cell_type": "code",
   "execution_count": 9,
   "id": "cdb91004",
   "metadata": {},
   "outputs": [
    {
     "data": {
      "text/plain": [
       "{'result_str': 'Success: Set Hamiltonian successfully and saved it under the label: Htest.'}"
      ]
     },
     "execution_count": 9,
     "metadata": {},
     "output_type": "execute_result"
    }
   ],
   "source": [
    "Htest = '''\n",
    "A = 1.\n",
    "hx = 0.6\n",
    "Jz = 0.6\n",
    "N = len(Sx)\n",
    "H = 0*Sx[0]\n",
    "# Nearest-neighbor Ising coupling in z\n",
    "for i in range(N-1):\n",
    "    H = H - Jz * (Sz[i] @ Sz[i+1])\n",
    "# Three-body cluster term with tunable coefficient A\n",
    "for i in range(1, N-1):\n",
    "    H = H + A * (Sz[i-1] @ Sx[i] @ Sz[i+1])\n",
    "# Uniform transverse field along x\n",
    "for i in range(N):\n",
    "    H = H - hx * Sx[i]'''\n",
    "sim_q.solver.set_Hamiltonian(\"Htest\",Htest)"
   ]
  },
  {
   "cell_type": "code",
   "execution_count": 10,
   "id": "015b476a",
   "metadata": {},
   "outputs": [
    {
     "data": {
      "text/plain": [
       "Array([[-1.2       , -0.6       ,  0.39999998,  0.        , -0.6       ,\n",
       "         0.        ,  0.        ,  0.        ],\n",
       "       [-0.6       ,  0.        ,  0.        , -1.6       ,  0.        ,\n",
       "        -0.6       ,  0.        ,  0.        ],\n",
       "       [ 0.39999998,  0.        ,  1.2       , -0.6       ,  0.        ,\n",
       "         0.        , -0.6       ,  0.        ],\n",
       "       [ 0.        , -1.6       , -0.6       ,  0.        ,  0.        ,\n",
       "         0.        ,  0.        , -0.6       ],\n",
       "       [-0.6       ,  0.        ,  0.        ,  0.        ,  0.        ,\n",
       "        -0.6       , -1.6       ,  0.        ],\n",
       "       [ 0.        , -0.6       ,  0.        ,  0.        , -0.6       ,\n",
       "         1.2       ,  0.        ,  0.39999998],\n",
       "       [ 0.        ,  0.        , -0.6       ,  0.        , -1.6       ,\n",
       "         0.        ,  0.        , -0.6       ],\n",
       "       [ 0.        ,  0.        ,  0.        , -0.6       ,  0.        ,\n",
       "         0.39999998, -0.6       , -1.2       ]], dtype=float32)"
      ]
     },
     "execution_count": 10,
     "metadata": {},
     "output_type": "execute_result"
    }
   ],
   "source": [
    "sim_q.solver.Hamiltonian[\"Htest\"]"
   ]
  },
  {
   "cell_type": "code",
   "execution_count": 11,
   "id": "e3646165",
   "metadata": {},
   "outputs": [
    {
     "name": "stdout",
     "output_type": "stream",
     "text": [
      "{'result_str': 'Success: Set Hamiltonian successfully and saved it under the label: H1.'} {'result_str': 'Success: Set Hamiltonian successfully and saved it under the label: H2.'}\n",
      "0.43103433 0.84508884\n"
     ]
    }
   ],
   "source": [
    "N=5\n",
    "H1 = f\"\"\"\n",
    "A=0.\n",
    "N={N}\n",
    "H=0*Sz[0]\n",
    "# for j in range(N-1):\n",
    "#     H+=A*Sz[j] @ Sz[j+1]\n",
    "for j in range(N):\n",
    "    H+=Sz[j]\"\"\"\n",
    "\n",
    "H2 = f\"\"\"\n",
    "A= 0.4\n",
    "#B=0.9\n",
    "N={N}\n",
    "H=0*Sz[0]\n",
    "for j in range(N):\n",
    "    H+=Sz[j] \n",
    "for j in range(N-1):\n",
    "    H+=A*Sx[j] @ Sx[j+1]\n",
    "H+=A*Sx[0] @ Sx[N-1]\n",
    "H *= 2\n",
    "\"\"\"\n",
    "\n",
    "\n",
    "sim_q.set_N(N)\n",
    "\n",
    "r1 = sim_q.solver.set_Hamiltonian(\"H1\",H1)\n",
    "r2 = sim_q.solver.set_Hamiltonian(\"H2\",H2)\n",
    "print(r1, r2)\n",
    "\n",
    "H1_c = sim_q.solver.Hamiltonian[\"H1\"]\n",
    "H2_c = sim_q.solver.Hamiltonian[\"H2\"]\n",
    "\n",
    "fid = sim_q.fidelity_for_Hamiltonians(H1_c, H2_c)\n",
    "#fid = sim_q.fidelity_for_ground_states(H1_c, H2_c)\n",
    "\n",
    "print(fid, fid**(1/N))"
   ]
  },
  {
   "cell_type": "code",
   "execution_count": 12,
   "id": "6e1313be",
   "metadata": {},
   "outputs": [],
   "source": [
    "# A = 0.4\n",
    "# H1 = f\"\"\"M=3\n",
    "# N=M**2\n",
    "\n",
    "# def idx(jx,jy,M):\n",
    "#     return (jx+M)%M + ((jy+M)%M)*M\n",
    "\n",
    "# H=0*Sz[0]\n",
    "# for jx in range(M):\n",
    "#     for jy in range(M):\n",
    "#         for dx,dy in [(-1,0),(+1,0),(0,+1),(0,-1)]:\n",
    "#             H+={A}*(Sx[idx(jx,jy,M)] @ Sx[idx(jx+dx,jy+dy,M)] + Sy[idx(jx,jy,M)] @ Sy[idx(jx+dx,jy+dy,M)] + Sz[idx(jx,jy,M)] @ Sz[idx(jx+dx,jy+dy,M)])\n",
    "# for j in range(N):\n",
    "#     H-=2*Sx[j]\"\"\"\n",
    "\n",
    "\n",
    "# H2 = f\"\"\"M=3\n",
    "# N=M**2\n",
    "\n",
    "# def idx(jx,jy,M):\n",
    "#     return (jx+M)%M + ((jy+M)%M)*M\n",
    "\n",
    "# H=0*Sz[0]\n",
    "# for jx in range(M):\n",
    "#     for jy in range(M):\n",
    "#         for dx,dy in [(-1,0),(+1,0),(0,+1),(0,-1)]:\n",
    "#             H+={A}*(Sx[idx(jx,jy,M)] @ Sx[idx(jx+dx,jy+dy,M)] + Sy[idx(jx,jy,M)] @ Sy[idx(jx+dx,jy+dy,M)] + Sz[idx(jx,jy,M)] @ Sz[idx(jx+dx,jy+dy,M)])\n",
    "# for j in range(N):\n",
    "#     H-=Sx[j]\"\"\""
   ]
  },
  {
   "cell_type": "code",
   "execution_count": 14,
   "id": "12880a7b",
   "metadata": {},
   "outputs": [
    {
     "name": "stdout",
     "output_type": "stream",
     "text": [
      "setHamiltonian: Error in executing provided code: name 'A' is not defined\n",
      "Error: 'agentHamiltonian'\n"
     ]
    },
    {
     "data": {
      "text/plain": [
       "{'fidelity': nan,\n",
       " 'N': 5,\n",
       " 'error': \"'agentHamiltonian'\",\n",
       " 'evals': '100',\n",
       " 'Hamiltonian': 'M=3\\nN=M**2\\n\\ndef idx(jx,jy,M):\\n    return (jx+M)%M + ((jy+M)%M)*M\\n\\nH=0*Sz[0]\\nfor jx in range(M):\\n    for jy in range(M):\\n        for dx,dy in [(-1,0),(+1,0),(0,+1),(0,-1)]:\\n            H+=A*(Sx[idx(jx,jy,M)] @ Sx[idx(jx+dx,jy+dy,M)] + Sy[idx(jx,jy,M)] @ Sy[idx(jx+dx,jy+dy,M)] + Sz[idx(jx,jy,M)] @ Sz[idx(jx+dx,jy+dy,M)])\\nfor j in range(N):\\n    H-=2*Sx[j]'}"
      ]
     },
     "execution_count": 14,
     "metadata": {},
     "output_type": "execute_result"
    }
   ],
   "source": [
    "H2 = f\"\"\"M=3\n",
    "N=M**2\n",
    "\n",
    "def idx(jx,jy,M):\n",
    "    return (jx+M)%M + ((jy+M)%M)*M\n",
    "\n",
    "H=0*Sz[0]\n",
    "for jx in range(M):\n",
    "    for jy in range(M):\n",
    "        for dx,dy in [(-1,0),(+1,0),(0,+1),(0,-1)]:\n",
    "            H+=A*(Sx[idx(jx,jy,M)] @ Sx[idx(jx+dx,jy+dy,M)] + Sy[idx(jx,jy,M)] @ Sy[idx(jx+dx,jy+dy,M)] + Sz[idx(jx,jy,M)] @ Sz[idx(jx+dx,jy+dy,M)])\n",
    "for j in range(N):\n",
    "    H-=2*Sx[j]\"\"\"\n",
    "\n",
    "sim_q.announce_Hamiltonian(H2)\n",
    "sim_q.last_result"
   ]
  },
  {
   "cell_type": "code",
   "execution_count": 15,
   "id": "a1481f87",
   "metadata": {},
   "outputs": [
    {
     "name": "stdout",
     "output_type": "stream",
     "text": [
      "setHamiltonian: Error in executing provided code: name 'N' is not defined\n",
      "Error: 'agentHamiltonian'\n"
     ]
    },
    {
     "data": {
      "text/plain": [
       "{'fidelity': nan,\n",
       " 'N': 5,\n",
       " 'error': \"'agentHamiltonian'\",\n",
       " 'evals': '100',\n",
       " 'Hamiltonian': '\\nH=Sz[0] * 0\\nfor j in range(N-1):\\n    H+=A*Sz[j] @ Sz[j+1]\\nfor j in range(N):\\n    H-=Sx[j]*0.1\\n'}"
      ]
     },
     "execution_count": 15,
     "metadata": {},
     "output_type": "execute_result"
    }
   ],
   "source": [
    "Ha = \"\"\"\n",
    "H=Sz[0] * 0\n",
    "for j in range(N-1):\n",
    "    H+=A*Sz[j] @ Sz[j+1]\n",
    "for j in range(N):\n",
    "    H-=Sx[j]*0.1\n",
    "\"\"\"\n",
    "sim_q.announce_Hamiltonian(Ha)\n",
    "sim_q.last_result"
   ]
  }
 ],
 "metadata": {
  "kernelspec": {
   "display_name": "sgl_transf",
   "language": "python",
   "name": "python3"
  },
  "language_info": {
   "codemirror_mode": {
    "name": "ipython",
    "version": 3
   },
   "file_extension": ".py",
   "mimetype": "text/x-python",
   "name": "python",
   "nbconvert_exporter": "python",
   "pygments_lexer": "ipython3",
   "version": "3.12.9"
  }
 },
 "nbformat": 4,
 "nbformat_minor": 5
}
